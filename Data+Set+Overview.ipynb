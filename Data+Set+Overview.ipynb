{
 "cells": [
  {
   "cell_type": "code",
   "execution_count": 1,
   "metadata": {
    "collapsed": true
   },
   "outputs": [],
   "source": [
    "import pandas as pd\n",
    "import numpy as np\n",
    "import matplotlib\n",
    "import seaborn as sns\n",
    "%matplotlib inline\n",
    "import scipy\n",
    "import matplotlib.pyplot as plt\n",
    "import networkx as nx\n",
    "import spacy\n",
    "from sklearn.feature_extraction.text import TfidfVectorizer\n",
    "from scipy import stats"
   ]
  },
  {
   "cell_type": "code",
   "execution_count": 2,
   "metadata": {
    "collapsed": true
   },
   "outputs": [],
   "source": [
    "df = pd.read_csv('/Users/aaronbroderick/Desktop/Data Science Folders/Data/FineFoods.csv')"
   ]
  },
  {
   "cell_type": "code",
   "execution_count": 4,
   "metadata": {},
   "outputs": [
    {
     "name": "stdout",
     "output_type": "stream",
     "text": [
      "(568454, 10)\n"
     ]
    },
    {
     "data": {
      "text/html": [
       "<div>\n",
       "<style scoped>\n",
       "    .dataframe tbody tr th:only-of-type {\n",
       "        vertical-align: middle;\n",
       "    }\n",
       "\n",
       "    .dataframe tbody tr th {\n",
       "        vertical-align: top;\n",
       "    }\n",
       "\n",
       "    .dataframe thead th {\n",
       "        text-align: right;\n",
       "    }\n",
       "</style>\n",
       "<table border=\"1\" class=\"dataframe\">\n",
       "  <thead>\n",
       "    <tr style=\"text-align: right;\">\n",
       "      <th></th>\n",
       "      <th>Id</th>\n",
       "      <th>ProductId</th>\n",
       "      <th>UserId</th>\n",
       "      <th>ProfileName</th>\n",
       "      <th>HelpfulnessNumerator</th>\n",
       "      <th>HelpfulnessDenominator</th>\n",
       "      <th>Score</th>\n",
       "      <th>Time</th>\n",
       "      <th>Summary</th>\n",
       "      <th>Text</th>\n",
       "    </tr>\n",
       "  </thead>\n",
       "  <tbody>\n",
       "    <tr>\n",
       "      <th>0</th>\n",
       "      <td>1</td>\n",
       "      <td>B001E4KFG0</td>\n",
       "      <td>A3SGXH7AUHU8GW</td>\n",
       "      <td>delmartian</td>\n",
       "      <td>1</td>\n",
       "      <td>1</td>\n",
       "      <td>5</td>\n",
       "      <td>1303862400</td>\n",
       "      <td>Good Quality Dog Food</td>\n",
       "      <td>I have bought several of the Vitality canned d...</td>\n",
       "    </tr>\n",
       "  </tbody>\n",
       "</table>\n",
       "</div>"
      ],
      "text/plain": [
       "   Id   ProductId          UserId ProfileName  HelpfulnessNumerator  \\\n",
       "0   1  B001E4KFG0  A3SGXH7AUHU8GW  delmartian                     1   \n",
       "\n",
       "   HelpfulnessDenominator  Score        Time                Summary  \\\n",
       "0                       1      5  1303862400  Good Quality Dog Food   \n",
       "\n",
       "                                                Text  \n",
       "0  I have bought several of the Vitality canned d...  "
      ]
     },
     "execution_count": 4,
     "metadata": {},
     "output_type": "execute_result"
    }
   ],
   "source": [
    "print(df.shape)\n",
    "df.head(1)"
   ]
  },
  {
   "cell_type": "markdown",
   "metadata": {},
   "source": [
    "The data originally comes from the SNAP website.  https://snap.stanford.edu/data/web-FineFoods.html"
   ]
  },
  {
   "cell_type": "markdown",
   "metadata": {},
   "source": [
    "## About this data set"
   ]
  },
  {
   "cell_type": "code",
   "execution_count": 10,
   "metadata": {},
   "outputs": [
    {
     "name": "stdout",
     "output_type": "stream",
     "text": [
      "74258 unique products\n",
      "218417 unique reviewers\n"
     ]
    }
   ],
   "source": [
    "print(str(len(set(df.ProductId))) + ' unique products')\n",
    "print(str(len(set(df.ProfileName))) + ' unique reviewers')"
   ]
  },
  {
   "cell_type": "code",
   "execution_count": 17,
   "metadata": {},
   "outputs": [
    {
     "name": "stdout",
     "output_type": "stream",
     "text": [
      "Most reviews are positive\n"
     ]
    },
    {
     "data": {
      "image/png": "[encoded data removed]",
      "text/plain": [
       "<matplotlib.figure.Figure at 0x10b5446d8>"
      ]
     },
     "metadata": {},
     "output_type": "display_data"
    }
   ],
   "source": [
    "ax = sns.distplot(df.Score)\n",
    "ax.set_title('Product scores of each review')\n",
    "print('Most reviews are positive')"
   ]
  },
  {
   "cell_type": "code",
   "execution_count": 43,
   "metadata": {},
   "outputs": [
    {
     "name": "stdout",
     "output_type": "stream",
     "text": [
      "Most reviews are not helpful\n"
     ]
    },
    {
     "data": {
      "image/png": "[encoded data removed]",
      "text/plain": [
       "<matplotlib.figure.Figure at 0x10a25a748>"
      ]
     },
     "metadata": {},
     "output_type": "display_data"
    }
   ],
   "source": [
    "ax = sns.distplot(df.HelpfulnessNumerator)\n",
    "ax.set_title('Review Upvote Distribution')\n",
    "print('Most reviews are not helpful')"
   ]
  },
  {
   "cell_type": "code",
   "execution_count": 27,
   "metadata": {},
   "outputs": [
    {
     "name": "stdout",
     "output_type": "stream",
     "text": [
      "There are people who write lots of reviews.\n"
     ]
    },
    {
     "data": {
      "text/html": [
       "<div>\n",
       "<style scoped>\n",
       "    .dataframe tbody tr th:only-of-type {\n",
       "        vertical-align: middle;\n",
       "    }\n",
       "\n",
       "    .dataframe tbody tr th {\n",
       "        vertical-align: top;\n",
       "    }\n",
       "\n",
       "    .dataframe thead th {\n",
       "        text-align: right;\n",
       "    }\n",
       "</style>\n",
       "<table border=\"1\" class=\"dataframe\">\n",
       "  <thead>\n",
       "    <tr style=\"text-align: right;\">\n",
       "      <th></th>\n",
       "      <th>names</th>\n",
       "      <th>count</th>\n",
       "    </tr>\n",
       "  </thead>\n",
       "  <tbody>\n",
       "    <tr>\n",
       "      <th>0</th>\n",
       "      <td>C. F. Hill \"CFH\"</td>\n",
       "      <td>451</td>\n",
       "    </tr>\n",
       "    <tr>\n",
       "      <th>1</th>\n",
       "      <td>O. Brown \"Ms. O. Khannah-Brown\"</td>\n",
       "      <td>421</td>\n",
       "    </tr>\n",
       "    <tr>\n",
       "      <th>2</th>\n",
       "      <td>Gary Peterson</td>\n",
       "      <td>389</td>\n",
       "    </tr>\n",
       "    <tr>\n",
       "      <th>3</th>\n",
       "      <td>Rebecca of Amazon \"The Rebecca Review\"</td>\n",
       "      <td>365</td>\n",
       "    </tr>\n",
       "    <tr>\n",
       "      <th>4</th>\n",
       "      <td>Chris</td>\n",
       "      <td>363</td>\n",
       "    </tr>\n",
       "    <tr>\n",
       "      <th>5</th>\n",
       "      <td>Linda</td>\n",
       "      <td>290</td>\n",
       "    </tr>\n",
       "    <tr>\n",
       "      <th>6</th>\n",
       "      <td>John</td>\n",
       "      <td>261</td>\n",
       "    </tr>\n",
       "    <tr>\n",
       "      <th>7</th>\n",
       "      <td>Mike</td>\n",
       "      <td>260</td>\n",
       "    </tr>\n",
       "    <tr>\n",
       "      <th>8</th>\n",
       "      <td>c2</td>\n",
       "      <td>256</td>\n",
       "    </tr>\n",
       "    <tr>\n",
       "      <th>9</th>\n",
       "      <td>Laura</td>\n",
       "      <td>253</td>\n",
       "    </tr>\n",
       "  </tbody>\n",
       "</table>\n",
       "</div>"
      ],
      "text/plain": [
       "                                    names  count\n",
       "0                        C. F. Hill \"CFH\"    451\n",
       "1         O. Brown \"Ms. O. Khannah-Brown\"    421\n",
       "2                           Gary Peterson    389\n",
       "3  Rebecca of Amazon \"The Rebecca Review\"    365\n",
       "4                                   Chris    363\n",
       "5                                   Linda    290\n",
       "6                                    John    261\n",
       "7                                    Mike    260\n",
       "8                                      c2    256\n",
       "9                                   Laura    253"
      ]
     },
     "execution_count": 27,
     "metadata": {},
     "output_type": "execute_result"
    }
   ],
   "source": [
    "x = df.ProfileName.value_counts()\n",
    "names = list(x.index)\n",
    "reviews = list(x)\n",
    "pros = pd.DataFrame()\n",
    "pros['names'] = names[:10]\n",
    "pros['count'] = reviews[:10]\n",
    "print('There are people who write lots of reviews.')\n",
    "pros"
   ]
  },
  {
   "cell_type": "code",
   "execution_count": 45,
   "metadata": {},
   "outputs": [
    {
     "name": "stdout",
     "output_type": "stream",
     "text": [
      "Pro reviews have significantly more impact.\n",
      "\n",
      "Upvote mean of all reviews: 1.7438174416927315\n",
      "Upvote mean of Pro reviews: 2.039588999697794\n",
      "Ttest_indResult(statistic=-2.2232804439385001, pvalue=0.026197284677819156)\n"
     ]
    }
   ],
   "source": [
    "print('Pro reviews have significantly more impact.')\n",
    "print('')\n",
    "print('Upvote mean of all reviews: ' + str(df.HelpfulnessNumerator.mean()))\n",
    "pros_help = df.loc[df['ProfileName'].isin(names[:10])]\n",
    "print('Upvote mean of Pro reviews: ' + str(pros_help.HelpfulnessNumerator.mean()))\n",
    "print(stats.ttest_ind(df.HelpfulnessNumerator,pros_help.HelpfulnessNumerator))"
   ]
  },
  {
   "cell_type": "code",
   "execution_count": 46,
   "metadata": {},
   "outputs": [
    {
     "data": {
      "text/plain": [
       "(455, 10)"
      ]
     },
     "execution_count": 46,
     "metadata": {},
     "output_type": "execute_result"
    }
   ],
   "source": [
    "w = list(df.ProductId.value_counts().index)\n",
    "title = w[50]\n",
    "product = df[df['ProductId'] == title]\n",
    "product = df[df['ProductId'] == title]\n",
    "product = product.reset_index(drop = True)\n",
    "product = pd.DataFrame(product)\n",
    "product.shape"
   ]
  },
  {
   "cell_type": "code",
   "execution_count": 57,
   "metadata": {},
   "outputs": [
    {
     "name": "stdout",
     "output_type": "stream",
     "text": [
      "New reviews have less impact as time goes on.\n",
      "\n"
     ]
    },
    {
     "data": {
      "image/png": "[encoded data removed]",
      "text/plain": [
       "<matplotlib.figure.Figure at 0x1a13f9bc88>"
      ]
     },
     "metadata": {},
     "output_type": "display_data"
    }
   ],
   "source": [
    "print('New reviews have less impact as time goes on.') \n",
    "print('')\n",
    "\n",
    "def make_dates(integer):\n",
    "    x = datetime.datetime.fromtimestamp(integer)\n",
    "    x = str(x)\n",
    "    x = x.split()\n",
    "    x = x[0]\n",
    "    return x\n",
    "\n",
    "product['datetime'] = product.Time.apply(make_dates)\n",
    "product['datetime'] = product.datetime.apply(pd.to_datetime)\n",
    "\n",
    "columns = ['datetime','HelpfulnessNumerator']\n",
    "test = pd.DataFrame(product[['datetime','HelpfulnessNumerator','Score']])\n",
    "\n",
    "test = test.sort_values(by='datetime')\n",
    "\n",
    "x = test.datetime\n",
    "y = test.HelpfulnessNumerator\n",
    "\n",
    "# plot\n",
    "plt.plot(x,y)\n",
    "# beautify the x-labels\n",
    "plt.gcf().autofmt_xdate()\n",
    "plt.ylabel('Helpfulness')\n",
    "plt.show()"
   ]
  },
  {
   "cell_type": "markdown",
   "metadata": {},
   "source": [
    "## So how do we find meaningful insight from this dataset?"
   ]
  },
  {
   "cell_type": "markdown",
   "metadata": {},
   "source": [
    "I think we want to know the following things.  \n",
    "\n",
    "1. What is the overall opinion of the product?\n",
    "2. Do the reviews cluster based on subjects?\n",
    "3. Are there particular details from the reviews that can provide information to improve the product?\n",
    "\n"
   ]
  },
  {
   "cell_type": "markdown",
   "metadata": {},
   "source": [
    "## Yeah, but I don't want to write a bunch of code"
   ]
  },
  {
   "cell_type": "markdown",
   "metadata": {},
   "source": [
    "Ok.  I got you.  \n",
    "\n",
    "Impact Analysis\n",
    "\n",
    "https://plot.ly/dashboard/aaronbroderickpiano:34/view?share_key=jNG1qLEKJqP71Vdn3u6tqi\n",
    "\n",
    "Subject Clustering\n",
    "\n",
    "https://plot.ly/dashboard/aaronbroderickpiano:35/view?share_key=Pi2A7ops21jC6TlLSjYqXT"
   ]
  },
  {
   "cell_type": "markdown",
   "metadata": {},
   "source": [
    "## Tell me more  . . ."
   ]
  },
  {
   "cell_type": "markdown",
   "metadata": {},
   "source": [
    "This product is intended to put accurate text sumarization in front of an analyst in an easy and intuitive format.\n",
    "\n",
    "The Impact Analysis summarizes reviews from the paragraph to the sentence level, so the analyst can simply mouse over the data point to get the information she needs.  Coupled with features such as expertise, helpfulness and product rating you can glide along the timeline and quickly get a sense of what people are saying about your product. \n",
    "\n",
    "Subject Clustering goes a little deeper and uses a parse for nouns, tf_idf, gap statstic, LSA pipeline to determine the correct number of clusters and then to extract the most important words.  Simply toggle between clusters to examine the different discussion topics of your product.  This code is easily transferable to other review sets and will yield a unique number of clusters each time.\n",
    "\n",
    "Were this to be put into production, it could conceivably be updated weekly by scraping Amazon for your product reviews, or applied to other product review websites.  "
   ]
  },
  {
   "cell_type": "code",
   "execution_count": null,
   "metadata": {
    "collapsed": true
   },
   "outputs": [],
   "source": []
  }
 ],
 "metadata": {
  "kernelspec": {
   "display_name": "Python 3",
   "language": "python",
   "name": "python3"
  },
  "language_info": {
   "codemirror_mode": {
    "name": "ipython",
    "version": 3
   },
   "file_extension": ".py",
   "mimetype": "text/x-python",
   "name": "python",
   "nbconvert_exporter": "python",
   "pygments_lexer": "ipython3",
   "version": "3.5.4"
  }
 },
 "nbformat": 4,
 "nbformat_minor": 2
}
