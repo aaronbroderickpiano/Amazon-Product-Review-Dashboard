{
 "cells": [
  {
   "cell_type": "code",
   "execution_count": 2,
   "metadata": {
    "collapsed": true
   },
   "outputs": [],
   "source": [
    "import pandas as pd\n",
    "import numpy as np\n",
    "import matplotlib\n",
    "import seaborn as sns\n",
    "%matplotlib inline\n",
    "import scipy\n",
    "import matplotlib.pyplot as plt\n",
    "import networkx as nx\n",
    "import spacy\n",
    "from sklearn.feature_extraction.text import TfidfVectorizer"
   ]
  },
  {
   "cell_type": "code",
   "execution_count": 3,
   "metadata": {
    "collapsed": true
   },
   "outputs": [],
   "source": [
    "df = pd.read_csv('/Users/aaronbroderick/Desktop/Data Science Folders/Data/FineFoods.csv')"
   ]
  },
  {
   "cell_type": "code",
   "execution_count": 4,
   "metadata": {
    "collapsed": true
   },
   "outputs": [],
   "source": [
    "w = list(df.ProductId.value_counts().index)"
   ]
  },
  {
   "cell_type": "code",
   "execution_count": 5,
   "metadata": {
    "collapsed": true
   },
   "outputs": [],
   "source": [
    "title = w[50]\n",
    "product = df[df['ProductId'] == title]"
   ]
  },
  {
   "cell_type": "code",
   "execution_count": 6,
   "metadata": {
    "collapsed": true
   },
   "outputs": [],
   "source": [
    "product = df[df['ProductId'] == title]\n",
    "product = product.reset_index(drop = True)\n",
    "product = pd.DataFrame(product)"
   ]
  },
  {
   "cell_type": "code",
   "execution_count": 7,
   "metadata": {},
   "outputs": [
    {
     "data": {
      "text/plain": [
       "(455, 10)"
      ]
     },
     "execution_count": 7,
     "metadata": {},
     "output_type": "execute_result"
    }
   ],
   "source": [
    "product.shape"
   ]
  },
  {
   "cell_type": "markdown",
   "metadata": {},
   "source": [
    "## Find the expertise of each reviewer"
   ]
  },
  {
   "cell_type": "code",
   "execution_count": 8,
   "metadata": {
    "collapsed": true
   },
   "outputs": [],
   "source": [
    "# Names of reviewers for this product\n",
    "reviewers = list(product.ProfileName)\n",
    "\n",
    "# All the reviews in the dataset\n",
    "x = list(df.ProfileName)\n",
    "\n",
    "results = []\n",
    "for i in range(len(reviewers)):\n",
    "    \n",
    "    # Count the total reviews of each reviewer in the data set\n",
    "    review_count = x.count(reviewers[i])\n",
    "    \n",
    "    results.append(review_count)\n",
    "\n",
    "product['expertise'] = results"
   ]
  },
  {
   "cell_type": "markdown",
   "metadata": {},
   "source": [
    "## Find the lag "
   ]
  },
  {
   "cell_type": "code",
   "execution_count": 9,
   "metadata": {
    "collapsed": true
   },
   "outputs": [],
   "source": [
    "import datetime\n",
    "\n",
    "def make_dates(integer):\n",
    "    x = datetime.datetime.fromtimestamp(integer)\n",
    "    x = str(x)\n",
    "    x = x.split()\n",
    "    x = x[0]\n",
    "    return x\n",
    "\n",
    "product['datetime'] = product.Time.apply(make_dates)\n",
    "product['datetime'] = product.datetime.apply(pd.to_datetime) \n",
    "product.datetime = product.datetime.apply(pd.to_datetime)"
   ]
  },
  {
   "cell_type": "code",
   "execution_count": 10,
   "metadata": {
    "collapsed": true
   },
   "outputs": [],
   "source": [
    "product['lag'] = 0\n",
    "results = []\n",
    "for j in range(len(product)):\n",
    "    y = product.datetime.iloc[j] - product.datetime.min()\n",
    "    results.append(y.days)\n",
    "    \n",
    "product.lag = results"
   ]
  },
  {
   "cell_type": "code",
   "execution_count": 11,
   "metadata": {},
   "outputs": [
    {
     "data": {
      "text/plain": [
       "<matplotlib.axes._subplots.AxesSubplot at 0x1a27374550>"
      ]
     },
     "execution_count": 11,
     "metadata": {},
     "output_type": "execute_result"
    },
    {
     "data": {
      "image/png": "[encoded data removed]",
      "text/plain": [
       "<matplotlib.figure.Figure at 0x1a2735b5f8>"
      ]
     },
     "metadata": {},
     "output_type": "display_data"
    }
   ],
   "source": [
    "sns.distplot(product.lag)"
   ]
  },
  {
   "cell_type": "markdown",
   "metadata": {},
   "source": [
    "## Make Lag Buckets"
   ]
  },
  {
   "cell_type": "code",
   "execution_count": 12,
   "metadata": {},
   "outputs": [
    {
     "data": {
      "text/plain": [
       "80"
      ]
     },
     "execution_count": 12,
     "metadata": {},
     "output_type": "execute_result"
    }
   ],
   "source": [
    "bucket = max(product.lag)//10\n",
    "bucket"
   ]
  },
  {
   "cell_type": "code",
   "execution_count": 13,
   "metadata": {
    "collapsed": true
   },
   "outputs": [],
   "source": [
    "def make_buckets(numb):\n",
    "    return (numb//bucket * bucket) + 80\n",
    "\n",
    "product['lag_buckets'] = product.lag.apply(make_buckets)"
   ]
  },
  {
   "cell_type": "markdown",
   "metadata": {},
   "source": [
    "## Make a Parser with spaCy"
   ]
  },
  {
   "cell_type": "code",
   "execution_count": 16,
   "metadata": {
    "collapsed": true
   },
   "outputs": [],
   "source": [
    "import scipy\n",
    "import matplotlib.pyplot as plt\n",
    "import networkx as nx\n",
    "import spacy\n",
    "from sklearn.feature_extraction.text import TfidfVectorizer\n",
    "%matplotlib inline\n",
    "\n",
    "# We want to use the standard english-language parser.\n",
    "parser = spacy.load('en')"
   ]
  },
  {
   "cell_type": "markdown",
   "metadata": {},
   "source": [
    "## Clean and Summarize Text"
   ]
  },
  {
   "cell_type": "code",
   "execution_count": 17,
   "metadata": {},
   "outputs": [
    {
     "data": {
      "text/plain": [
       "'As a French Roast fan, I bought this brand of K-cup with high expectations, considering the name attached to it. I was disappointed. It has a hearty aroma and full-bodied flavor but leaves a bitter aftertaste.<br /><br />If you\\'re a lover of the more robust roasts, I would recommend trying the <a href=\"http://www.amazon.com/gp/product/B002L41Y8A\">Coffee People Kona Blend Island Style, Extra Bold K-Cups for Keurig Brewers (Pack of 50)</a> instead. It is a smooth blend with none of the bitterness that delivers that kick you\\'re likely looking for.'"
      ]
     },
     "execution_count": 17,
     "metadata": {},
     "output_type": "execute_result"
    }
   ],
   "source": [
    "product.Text[20]"
   ]
  },
  {
   "cell_type": "code",
   "execution_count": 18,
   "metadata": {
    "collapsed": true
   },
   "outputs": [],
   "source": [
    "import re\n",
    "def summarize(text):\n",
    "    #text = text.replace(\"<br />\", \".\")\n",
    "    text = re.sub(r'<.+?>', '', text)\n",
    "    text = text.replace('.','. ')\n",
    "    # Parsing\n",
    "    text = parser(text)\n",
    "\n",
    "    # Dividing the text into sentences and storing them as a list of strings.\n",
    "    sentences=[]\n",
    "    for span in text.sents:\n",
    "        # go from the start to the end of each span, returning each token in the sentence\n",
    "        # combine each token using join()\n",
    "        sent = ''.join(text[i].string for i in range(span.start, span.end)).strip()\n",
    "        sentences.append(sent)\n",
    "    if len(sentences) == 1:\n",
    "        return text\n",
    "    else:\n",
    "        # Creating the tf-idf matrix.\n",
    "        counter = TfidfVectorizer(lowercase=False, \n",
    "                                  stop_words=None,\n",
    "                                  ngram_range=(1, 1), \n",
    "                                  analyzer=u'word', \n",
    "                                  max_df=.5, \n",
    "                                  min_df=1,\n",
    "                                  max_features=None, \n",
    "                                  vocabulary=None, \n",
    "                                  binary=False)\n",
    "        #Applying the vectorizer\n",
    "        data_counts=counter.fit_transform(sentences)\n",
    "        # Calculating similarity\n",
    "        similarity = data_counts * data_counts.T\n",
    "        # Identifying the sentence with the highest rank.\n",
    "        nx_graph = nx.from_scipy_sparse_matrix(similarity)\n",
    "        ranks=nx.pagerank(nx_graph, alpha=.85, tol=.000001)\n",
    "        ranked = sorted(((ranks[i],s) for i,s in enumerate(sentences)),\n",
    "                        reverse=True)\n",
    "        return ranked[0][1]"
   ]
  },
  {
   "cell_type": "code",
   "execution_count": 19,
   "metadata": {},
   "outputs": [],
   "source": [
    "product['summary'] = product.Text.apply(summarize)"
   ]
  },
  {
   "cell_type": "code",
   "execution_count": 20,
   "metadata": {
    "collapsed": true
   },
   "outputs": [],
   "source": [
    "final = product[['Score','HelpfulnessNumerator','expertise','lag_buckets','summary']]"
   ]
  },
  {
   "cell_type": "code",
   "execution_count": 21,
   "metadata": {},
   "outputs": [
    {
     "data": {
      "text/html": [
       "<div>\n",
       "<style scoped>\n",
       "    .dataframe tbody tr th:only-of-type {\n",
       "        vertical-align: middle;\n",
       "    }\n",
       "\n",
       "    .dataframe tbody tr th {\n",
       "        vertical-align: top;\n",
       "    }\n",
       "\n",
       "    .dataframe thead th {\n",
       "        text-align: right;\n",
       "    }\n",
       "</style>\n",
       "<table border=\"1\" class=\"dataframe\">\n",
       "  <thead>\n",
       "    <tr style=\"text-align: right;\">\n",
       "      <th></th>\n",
       "      <th>Score</th>\n",
       "      <th>HelpfulnessNumerator</th>\n",
       "      <th>expertise</th>\n",
       "      <th>lag_buckets</th>\n",
       "      <th>summary</th>\n",
       "    </tr>\n",
       "  </thead>\n",
       "  <tbody>\n",
       "    <tr>\n",
       "      <th>0</th>\n",
       "      <td>5</td>\n",
       "      <td>1</td>\n",
       "      <td>9</td>\n",
       "      <td>320</td>\n",
       "      <td>While there are many choices, I prefer a bold,...</td>\n",
       "    </tr>\n",
       "    <tr>\n",
       "      <th>1</th>\n",
       "      <td>5</td>\n",
       "      <td>1</td>\n",
       "      <td>10</td>\n",
       "      <td>240</td>\n",
       "      <td>We were pleasantly surprised that this had a g...</td>\n",
       "    </tr>\n",
       "    <tr>\n",
       "      <th>2</th>\n",
       "      <td>4</td>\n",
       "      <td>1</td>\n",
       "      <td>10</td>\n",
       "      <td>240</td>\n",
       "      <td>Wish it was available in whole bean as I like ...</td>\n",
       "    </tr>\n",
       "    <tr>\n",
       "      <th>3</th>\n",
       "      <td>5</td>\n",
       "      <td>1</td>\n",
       "      <td>9</td>\n",
       "      <td>240</td>\n",
       "      <td>.  I would recommend it after dinner, but not ...</td>\n",
       "    </tr>\n",
       "    <tr>\n",
       "      <th>4</th>\n",
       "      <td>3</td>\n",
       "      <td>1</td>\n",
       "      <td>40</td>\n",
       "      <td>240</td>\n",
       "      <td>This is the most USEFUL info you will ever nee...</td>\n",
       "    </tr>\n",
       "    <tr>\n",
       "      <th>5</th>\n",
       "      <td>2</td>\n",
       "      <td>1</td>\n",
       "      <td>9</td>\n",
       "      <td>240</td>\n",
       "      <td>Stick with normal pods or extra bold if you li...</td>\n",
       "    </tr>\n",
       "    <tr>\n",
       "      <th>6</th>\n",
       "      <td>2</td>\n",
       "      <td>1</td>\n",
       "      <td>28</td>\n",
       "      <td>240</td>\n",
       "      <td>I'm really disappointed because I now have a b...</td>\n",
       "    </tr>\n",
       "    <tr>\n",
       "      <th>7</th>\n",
       "      <td>5</td>\n",
       "      <td>1</td>\n",
       "      <td>9</td>\n",
       "      <td>240</td>\n",
       "      <td>She does not like bold coffee flavors, but is ...</td>\n",
       "    </tr>\n",
       "    <tr>\n",
       "      <th>8</th>\n",
       "      <td>1</td>\n",
       "      <td>1</td>\n",
       "      <td>81</td>\n",
       "      <td>240</td>\n",
       "      <td>This is a good decaf coffee, but I've never be...</td>\n",
       "    </tr>\n",
       "    <tr>\n",
       "      <th>9</th>\n",
       "      <td>2</td>\n",
       "      <td>1</td>\n",
       "      <td>9</td>\n",
       "      <td>240</td>\n",
       "      <td>Warning: this is a STRONG flavor.</td>\n",
       "    </tr>\n",
       "  </tbody>\n",
       "</table>\n",
       "</div>"
      ],
      "text/plain": [
       "   Score  HelpfulnessNumerator  expertise  lag_buckets  \\\n",
       "0      5                     1          9          320   \n",
       "1      5                     1         10          240   \n",
       "2      4                     1         10          240   \n",
       "3      5                     1          9          240   \n",
       "4      3                     1         40          240   \n",
       "5      2                     1          9          240   \n",
       "6      2                     1         28          240   \n",
       "7      5                     1          9          240   \n",
       "8      1                     1         81          240   \n",
       "9      2                     1          9          240   \n",
       "\n",
       "                                             summary  \n",
       "0  While there are many choices, I prefer a bold,...  \n",
       "1  We were pleasantly surprised that this had a g...  \n",
       "2  Wish it was available in whole bean as I like ...  \n",
       "3  .  I would recommend it after dinner, but not ...  \n",
       "4  This is the most USEFUL info you will ever nee...  \n",
       "5  Stick with normal pods or extra bold if you li...  \n",
       "6  I'm really disappointed because I now have a b...  \n",
       "7  She does not like bold coffee flavors, but is ...  \n",
       "8  This is a good decaf coffee, but I've never be...  \n",
       "9                  Warning: this is a STRONG flavor.  "
      ]
     },
     "execution_count": 21,
     "metadata": {},
     "output_type": "execute_result"
    }
   ],
   "source": [
    "final.head(10)"
   ]
  },
  {
   "cell_type": "code",
   "execution_count": 58,
   "metadata": {
    "collapsed": true
   },
   "outputs": [],
   "source": [
    "final.to_csv('review_animation')"
   ]
  },
  {
   "cell_type": "code",
   "execution_count": null,
   "metadata": {
    "collapsed": true
   },
   "outputs": [],
   "source": []
  },
  {
   "cell_type": "code",
   "execution_count": null,
   "metadata": {
    "collapsed": true
   },
   "outputs": [],
   "source": []
  },
  {
   "cell_type": "code",
   "execution_count": null,
   "metadata": {
    "collapsed": true
   },
   "outputs": [],
   "source": []
  }
 ],
 "metadata": {
  "kernelspec": {
   "display_name": "Python 3",
   "language": "python",
   "name": "python3"
  },
  "language_info": {
   "codemirror_mode": {
    "name": "ipython",
    "version": 3
   },
   "file_extension": ".py",
   "mimetype": "text/x-python",
   "name": "python",
   "nbconvert_exporter": "python",
   "pygments_lexer": "ipython3",
   "version": "3.5.4"
  }
 },
 "nbformat": 4,
 "nbformat_minor": 2
}
